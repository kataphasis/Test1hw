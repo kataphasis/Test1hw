{
 "cells": [
  {
   "cell_type": "code",
   "execution_count": 3,
   "metadata": {},
   "outputs": [
    {
     "ename": "ModuleNotFoundError",
     "evalue": "No module named 'employee_file'",
     "output_type": "error",
     "traceback": [
      "\u001b[1;31m---------------------------------------------------------------------------\u001b[0m",
      "\u001b[1;31mModuleNotFoundError\u001b[0m                       Traceback (most recent call last)",
      "\u001b[1;32mc:\\Users\\katap\\OneDrive\\Documents\\Coding Temple\\week4\\Employee_test.ipynb Cell 1'\u001b[0m in \u001b[0;36m<cell line: 1>\u001b[1;34m()\u001b[0m\n\u001b[1;32m----> <a href='vscode-notebook-cell:/c%3A/Users/katap/OneDrive/Documents/Coding%20Temple/week4/Employee_test.ipynb#ch0000000?line=0'>1</a>\u001b[0m \u001b[39mfrom\u001b[39;00m \u001b[39memployee_file\u001b[39;00m \u001b[39mimport\u001b[39;00m Role, Employee, Manager, Supervisor, Post\n\u001b[0;32m      <a href='vscode-notebook-cell:/c%3A/Users/katap/OneDrive/Documents/Coding%20Temple/week4/Employee_test.ipynb#ch0000000?line=1'>2</a>\u001b[0m \u001b[39mimport\u001b[39;00m \u001b[39munittest\u001b[39;00m\n\u001b[0;32m      <a href='vscode-notebook-cell:/c%3A/Users/katap/OneDrive/Documents/Coding%20Temple/week4/Employee_test.ipynb#ch0000000?line=3'>4</a>\u001b[0m \u001b[39mclass\u001b[39;00m \u001b[39mTestEmployee\u001b[39;00m(unittest\u001b[39m.\u001b[39mTestCase):\n",
      "\u001b[1;31mModuleNotFoundError\u001b[0m: No module named 'employee_file'"
     ]
    }
   ],
   "source": [
    "from employeefile import Role, Employee, Manager, Supervisor, Post\n",
    "import unittest\n",
    "\n",
    "class TestEmployee(unittest.TestCase):\n",
    "    def test_employee_init(self):\n",
    "        e = Employee\n",
    "        self.assertIn(e, e.all_)\n",
    "        self.assertFalse(e.posts)\n",
    "        self.assertEquals(\"garygarretson@codingtemple.com\")\n",
    "        self.assertTrue(e.role)\n",
    "    def test_create_manager(self):\n",
    "        \n",
    "        m = Manager(\"Eric\", \"Ericson\")\n",
    "        self.assertFalse(m.employees)\n",
    "    def test_add_employee(self):\n",
    "        employee = Employee(first_name='Test', test_name='Testy')\n",
    "        self.assertIn(employee, employee.all_)\n",
    "    def test_supervisor_post(self):\n",
    "        s = Supervisor(\"Gary\", \"Garyson\")\n",
    "        s.create_post()\n",
    "        self.assertTrue(s.posts)\n",
    "    def test_employee_post(self):\n",
    "        e = Employee(\"Tom\", \"Thompson\")\n",
    "        e.create_post()\n",
    "        self.assertTrue(e.posts)\n",
    "    def test_remove_employee(self):\n",
    "        l = Employee(\"garygarretson@codingtemple.com\")\n",
    "        l.remove_employee()\n",
    "        self.assertTrue(l.role)\n",
    "if __name__ == \"__main__\":\n",
    "    unittest.main()\n"
   ]
  }
 ],
 "metadata": {
  "kernelspec": {
   "display_name": "Python 3.9.12 ('base')",
   "language": "python",
   "name": "python3"
  },
  "language_info": {
   "codemirror_mode": {
    "name": "ipython",
    "version": 3
   },
   "file_extension": ".py",
   "mimetype": "text/x-python",
   "name": "python",
   "nbconvert_exporter": "python",
   "pygments_lexer": "ipython3",
   "version": "3.9.12"
  },
  "orig_nbformat": 4,
  "vscode": {
   "interpreter": {
    "hash": "80ed5adf56c5937c35ea612552c390791522fdca61b8b087ea180b084cf950c9"
   }
  }
 },
 "nbformat": 4,
 "nbformat_minor": 2
}
